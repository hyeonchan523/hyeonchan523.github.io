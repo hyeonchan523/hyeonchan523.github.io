{
 "metadata": {
  "language_info": {
   "codemirror_mode": {
    "name": "ipython",
    "version": 3
   },
   "file_extension": ".py",
   "mimetype": "text/x-python",
   "name": "python",
   "nbconvert_exporter": "python",
   "pygments_lexer": "ipython3",
   "version": "3.7.3-final"
  },
  "orig_nbformat": 2,
  "kernelspec": {
   "name": "python3",
   "display_name": "Python 3.7.3 64-bit ('hyeon': virtualenv)",
   "metadata": {
    "interpreter": {
     "hash": "28792d561f34874995b7b45a59a55237c48166ddd3475ee9b4e7eab648147b06"
    }
   }
  }
 },
 "nbformat": 4,
 "nbformat_minor": 2,
 "cells": [
  {
   "cell_type": "code",
   "execution_count": null,
   "metadata": {},
   "outputs": [],
   "source": [
    "import pyforest\n",
    "all_libs = dir(pyforest)\n",
    "active_libs = pyforest.active_imports()\n",
    "laze_libs = pyforest.lazy_imports()"
   ]
  },
  {
   "cell_type": "code",
   "execution_count": null,
   "metadata": {},
   "outputs": [],
   "source": [
    "print('==================')\n",
    "print('All imported libs \\n',all_libs)\n",
    "print('==================')"
   ]
  },
  {
   "cell_type": "code",
   "execution_count": null,
   "metadata": {},
   "outputs": [],
   "source": [
    "print('==================')\n",
    "print('Active libs \\n',len(active_libs))\n",
    "print('==================')\n",
    "print('Laze libs \\n',len(laze_libs))\n",
    "print('==================')"
   ]
  },
  {
   "cell_type": "code",
   "execution_count": null,
   "metadata": {},
   "outputs": [],
   "source": [
    "np_array = np.random.randn(100)\n",
    "plt.plot(np_array)"
   ]
  },
  {
   "cell_type": "code",
   "execution_count": null,
   "metadata": {},
   "outputs": [],
   "source": [
    "pd_dataframe = pd.DataFrame(np_array.reshape(10,10))\n",
    "sns.heatmap(pd_dataframe)"
   ]
  },
  {
   "cell_type": "code",
   "execution_count": null,
   "metadata": {},
   "outputs": [],
   "source": [
    "active_libs = pyforest.active_imports()\n",
    "laze_libs = pyforest.lazy_imports()\n",
    "print('==================')\n",
    "print('Active libs \\n',len(active_libs))\n",
    "print('==================')\n",
    "print('Laze libs \\n',len(laze_libs))\n",
    "print('==================')"
   ]
  }
 ]
}