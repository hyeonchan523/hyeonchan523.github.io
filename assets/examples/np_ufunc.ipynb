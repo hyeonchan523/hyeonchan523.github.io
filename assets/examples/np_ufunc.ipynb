{
 "metadata": {
  "language_info": {
   "codemirror_mode": {
    "name": "ipython",
    "version": 3
   },
   "file_extension": ".py",
   "mimetype": "text/x-python",
   "name": "python",
   "nbconvert_exporter": "python",
   "pygments_lexer": "ipython3",
   "version": "3.7.7-final"
  },
  "orig_nbformat": 2,
  "kernelspec": {
   "name": "python3",
   "display_name": "Python 3.7.7 64-bit ('venv': conda)",
   "metadata": {
    "interpreter": {
     "hash": "44d383753a51d6c4b05c954ee18cb3123529c76e437793a53c4cc1726c498778"
    }
   }
  }
 },
 "nbformat": 4,
 "nbformat_minor": 2,
 "cells": [
  {
   "cell_type": "code",
   "execution_count": 1,
   "metadata": {},
   "outputs": [],
   "source": [
    "import numpy as np"
   ]
  },
  {
   "source": [
    "100개의 element를 가진 array의 각 요소에 절대값을 취해주는 경우"
   ],
   "cell_type": "markdown",
   "metadata": {}
  },
  {
   "cell_type": "code",
   "execution_count": 10,
   "metadata": {},
   "outputs": [
    {
     "output_type": "stream",
     "name": "stdout",
     "text": [
      "37.3 µs ± 578 ns per loop (mean ± std. dev. of 7 runs, 10000 loops each)\n"
     ]
    }
   ],
   "source": [
    "%%timeit\n",
    "test_array = np.random.randn(100)\n",
    "for i in range(100):\n",
    "    test_array[i] = abs(test_array[i])"
   ]
  },
  {
   "cell_type": "code",
   "execution_count": 11,
   "metadata": {},
   "outputs": [
    {
     "output_type": "stream",
     "name": "stdout",
     "text": [
      "4.55 µs ± 206 ns per loop (mean ± std. dev. of 7 runs, 100000 loops each)\n"
     ]
    }
   ],
   "source": [
    "%%timeit\n",
    "test_array = np.random.randn(100)\n",
    "abs(test_array)"
   ]
  },
  {
   "source": [
    "---\n",
    "1000개의 element에 적용해보면"
   ],
   "cell_type": "markdown",
   "metadata": {}
  },
  {
   "cell_type": "code",
   "execution_count": 16,
   "metadata": {},
   "outputs": [
    {
     "output_type": "stream",
     "name": "stdout",
     "text": [
      "354 µs ± 9.22 µs per loop (mean ± std. dev. of 7 runs, 1000 loops each)\n"
     ]
    }
   ],
   "source": [
    "%%timeit\n",
    "test_array = np.random.randn(1000)\n",
    "for i in range(1000):\n",
    "    test_array[i] = abs(test_array[i])"
   ]
  },
  {
   "cell_type": "code",
   "execution_count": 17,
   "metadata": {},
   "outputs": [
    {
     "output_type": "stream",
     "name": "stdout",
     "text": [
      "30.1 µs ± 611 ns per loop (mean ± std. dev. of 7 runs, 10000 loops each)\n"
     ]
    }
   ],
   "source": [
    "%%timeit\n",
    "test_array = np.random.randn(1000)\n",
    "abs(test_array)"
   ]
  },
  {
   "cell_type": "code",
   "execution_count": 18,
   "metadata": {},
   "outputs": [
    {
     "output_type": "stream",
     "name": "stdout",
     "text": [
      "29.3 µs ± 632 ns per loop (mean ± std. dev. of 7 runs, 10000 loops each)\n"
     ]
    }
   ],
   "source": [
    "%%timeit\n",
    "test_array = np.random.randn(1000)\n",
    "np.abs(test_array)"
   ]
  },
  {
   "source": [
    "# ufunc\n",
    "## 1. unary ufunc\n",
    "\n",
    "abs, sqrt와 같이 하나의 피연사자에 작동하는 함수"
   ],
   "cell_type": "markdown",
   "metadata": {}
  },
  {
   "cell_type": "code",
   "execution_count": null,
   "metadata": {},
   "outputs": [],
   "source": []
  },
  {
   "cell_type": "code",
   "execution_count": 19,
   "metadata": {},
   "outputs": [],
   "source": [
    "import scipy"
   ]
  },
  {
   "cell_type": "code",
   "execution_count": 25,
   "metadata": {},
   "outputs": [
    {
     "output_type": "execute_result",
     "data": {
      "text/plain": [
       "array([0.14665538, 0.96927917, 0.238496  , 0.23261825, 0.38369384,\n",
       "       0.18088351, 0.64951566, 0.66289236, 0.31872889, 0.99996071,\n",
       "       0.28378615, 0.20858516, 0.17885574, 0.29411479, 0.59657711,\n",
       "       0.99980608, 0.88076596, 0.16926031, 0.14947524, 0.8283788 ,\n",
       "       0.99965944, 0.22718737, 0.83924155, 0.97626491, 0.00320082,\n",
       "       0.99945621, 0.84030672, 0.00415091, 0.95414472, 0.80835985,\n",
       "       0.27741183, 0.8896042 , 0.99799655, 0.65274747, 0.99712854,\n",
       "       0.9998799 , 0.14219221, 0.51915643, 0.89032804, 0.97134475,\n",
       "       0.7203117 , 0.5247025 , 0.2264351 , 0.8941472 , 0.98012253,\n",
       "       0.77842346, 0.52803293, 0.96298823, 0.65200618, 0.54281979,\n",
       "       0.73550998, 0.8142483 , 0.76199932, 0.11744018, 0.16336542,\n",
       "       0.98576789, 0.19123689, 0.06708796, 0.16609147, 0.34167471,\n",
       "       0.32066735, 0.34277085, 0.99999531, 0.09676779, 0.90989484,\n",
       "       0.91609256, 0.96475684, 0.94811736, 0.90192359, 0.20742373,\n",
       "       0.77021261, 0.49025012, 0.44037459, 0.46239475, 0.58858423,\n",
       "       0.36886702, 0.99695752, 0.8712539 , 0.83960261, 0.3522183 ,\n",
       "       0.13509301, 0.70599673, 0.96757763, 0.94286599, 0.97147663,\n",
       "       0.86843151, 0.9848905 , 0.42799533, 0.56114456, 0.40605922,\n",
       "       0.54125156, 0.9999304 , 0.96103964, 0.62359145, 0.88896087,\n",
       "       0.89532847, 0.39634717, 0.85780148, 0.98798069, 0.08525369])"
      ]
     },
     "metadata": {},
     "execution_count": 25
    }
   ],
   "source": [
    "np.sin(test_array)"
   ]
  },
  {
   "cell_type": "code",
   "execution_count": null,
   "metadata": {},
   "outputs": [],
   "source": []
  }
 ]
}